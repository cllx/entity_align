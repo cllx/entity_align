{
 "cells": [
  {
   "cell_type": "code",
   "execution_count": 2,
   "metadata": {},
   "outputs": [
    {
     "name": "stdout",
     "output_type": "stream",
     "text": [
      "    {'中文名': '方滨兴', '性别': '男', '出生日期': '1960年7月17日', '出生地': '黑龙江省哈尔滨市', '祖籍': '江西省万年县', '民族': '汉族', '政治面貌': '中国共产党党员', '职称': '中国工程院院士', '教育背景': [{'1978-1981年': '哈尔滨工业大学计算机系77级本科生，获学士学位'}, {'1982-1984': '年在清华大学计算机系81级研究生，获硕士学位'}, {'1986-1989年': '在哈尔滨工业大学计算机系85级在职博士研究生，获博士学位'}, {'1990-1993年': '在国防科学技术大学计算机科学与技术博士后流动站在职研究学习'}, {'2003年': '在中央党校地厅级干部进修班第41期脱产学习半年'}], '工作经历': [{'1984-1992年': '在哈尔滨工业大学计算机系任助教、讲师、副教授；其间任任教研室副主任'}, {'1992-1995年': '在哈尔滨工业大学计算机系任教授；其间任教研室副主任、主任'}, {'1995-1999年': '在哈尔滨工业大学计算机与电气工程学院任教授，博士生导师；其间任教研室主任，副院长，网络中心主任'}, {'1999-2000年': '在国家计算机网络应急技术处理协调中心任副总工'}, {'2000-2002年': '在国家计算机网络应急技术处理协调中心任总工程师、副主任、教授级高级工程师'}, {'2002-2006年': '在国家计算机网络应急技术处理协调中心任主任、总工程师，教授级高级工程师'}, {'2003-2007年': '任信息产业部互联网应急处理协调办公室主任，其间被任命为国家计算机网络与信息安全管理中心名誉主任'}, {'2005年': '被遴选为中国工程院院士'}, {'2007年12月': '任北京邮电大学校长'}, {'2013年6月': '因病表示不再连任校长'}], '获得荣誉': [{'2001年': '获国务院政府特殊津贴'}, {'2001年': '获中组部、中宣部、中央政法委、公安部、民政部、人事部等联合授予“先进个人”称号'}, {'2001年': '获信息产业部“在信息产业部重点工程中做出突出贡献特等奖先进个人”称号'}, {'2002年': '获中组部中宣部、人事部、科技部联合授予全国“杰出专业技术人才”荣誉称号'}, {'2004年': '获人事部、科学技术部、教育部、财政部、国家发展和改革委员会、国家自然科学基金委员会、中国科学技术协会联合授予“新世纪百千万人才工程国家级人选”'}, {'2006年': '获信息产业部“信息产业科技创新先进工作者”'}, {'2007年': '获何梁何利基金科学与技术进步奖'}], '论著成果': [{'2002年': '“国家信息安全管理系统”国家科学进步一等奖，第一'}, {'2002年': '“大范围宽带网络动态阻断系统”，国防科学进步二等奖，第二'}, {'1995年': '“支持存储器无冲突访问的互连开关门阵列芯片的研制”获部级科学进步二等奖，第二'}, {'1995年': '“多机系统的性能评价的研究”获部级科学进步二等奖，第二'}, {'2001年': '“计算机病毒及其预防技术”国防科学技术三等奖，第一'}, {'1996年': '“支持存储器无冲突访问的互连开关设计理论及方法”获部级科学进步三等奖，第一'}, {'1996年': '“ABC-90阵列计算机综合模拟器”获部级科学进步三等奖，第一'}, {'1992年': '《计算机病毒及其对策》'}], '学术兼职': [{'2003年起': '中国通信标准化协会理事、网络与信息安全技术委员会（TC8）主席，专家咨询委员会委员、技术管理委员会委员'}, {'2004年起': '中国互联网协会副理事长、网络与信息安全工作委员会主任'}, {'2005年起': '中国通信学会会士、常务理事、通信安全技术委员会主任，学术工作委员会委员'}, {'2005年起': '清华大学计算机系兼职教授'}, {'2006起': '哈尔滨工业大学教授、博士生导师、哈工大国家计算机内容安全重点实验室主任'}, {'2007年起': '中科院计算所客座研究员、博士生导师、信息安全首席科学家'}, {'2007年起': '国防科学技术大学特聘教授、博士生导师'}, {'2007年起': '《通信学报》编辑委员会主任'}, {'2008年起': '中国计算机学会副理事长、计算机安全专业委员会主任'}], '技术工作兼职': [{'2003年起': '财政部“金财工程”专家咨询委员会委员'}, {'2004年起': '中国下一代互联网示范工程（CNGI）项目专家委员会委员'}, {'2005年起': '全国人大信息化系统改造和建设工程专家咨询顾问组成员'}, {'2005年起': '国家863计划“十一五”信息技术领域专家委员会委员'}, {'2007年起': '国家自然科学基金可信软件重大专项专家组副组长'}, {'2007年起': '国家973计划“信息安全理论及若干关键技术”首席科学家'}], '社会兼职': [{'2002年起': '信息产业部通信科学技术委员会常务委员'}, {'2004年起': '国家计算机网络与信息安全管理中心科学技术委员会主任'}, {'2004年起': '解放军总后勤部信息化专家咨询委员会委员'}, {'2005年起': '国家信息安全产品认证管理委员会委员'}, {'2005年起': '中国网络通信集团公司技术委员会委员'}, {'2006年起': '国家信息化专家咨询委员会委员，网络与信息安全专业委员会副主任'}, {'2006年起': '上海市互联网宣传管理技术咨询专家'}, {'2006年起': '北京市信息化专家咨询委员会委员'}, {'2006年起': '国家应急管理专家组成员'}, {'2007年起': '公安部信息安全特聘专家'}, {'2007年起': '“新世纪百千万人才工程国家级人选”评审委员会委员'}, {'2007年起': '北京市公安交通管理局专家顾问团成员'}]}\n",
      "    ['中文名', '性别', '出生日期', '出生地', '祖籍', '民族', '政治面貌', '职称', '教育背景', '工作经历', '获得荣誉', '论著成果', '学术兼职', '技术工作兼职', '社会兼职']\n"
     ]
    },
    {
     "data": {
      "text/plain": [
       "([], [])"
      ]
     },
     "execution_count": 2,
     "metadata": {},
     "output_type": "execute_result"
    }
   ],
   "source": [
    "import json\n",
    "import synonyms\n",
    "path1 = r\"G:\\方班学习\\精准简历\\属性对齐与验证\\fang_360.json\"\n",
    "path2 = r\"G:\\方班学习\\精准简历\\属性对齐与验证\\fang_sougou.json\"\n",
    "path3 = r\"G:\\方班学习\\精准简历\\属性对齐与验证\\fang_wiki.json\"\n",
    "path4 = r\"G:\\方班学习\\精准简历\\属性对齐与验证\\fang_baidu.json\"\n",
    "path5 = r\"G:\\方班学习\\精准简历\\属性对齐与验证\\fang_hudong.json\"\n",
    "\n",
    "with open(path1,'r', encoding=\"utf8\") as load_f:\n",
    "    fang_360 = json.load(load_f) #loads是从str里加载，load是从文件里加载,加载结果为字典\n",
    "print(\"   \", fang_360)\n",
    "keys_list = list(fang_360.keys()) #通过list将字典中的keys和values转化为列表\n",
    "print(\"   \",keys_list)\n",
    "synonyms.nearby(keys_list[14]) #使用synonyms计算词语、短语相似度\n",
    "# synonyms.display(keys_list[12])"
   ]
  },
  {
   "cell_type": "code",
   "execution_count": 3,
   "metadata": {},
   "outputs": [
    {
     "name": "stdout",
     "output_type": "stream",
     "text": [
      "{'similarity': '0.00'}\n"
     ]
    }
   ],
   "source": [
    "# 调用HowNet接口计算词语相似度\n",
    "import requests\n",
    "import json\n",
    "def hownet_word_sim(word1,word2):\n",
    "\tdata = {'apiKey':'t61px2w7','word1':word1,'word2':word2}\n",
    "\turl = 'http://yuzhinlp.com/api/call_similarity.do'\n",
    "\thtml = requests.post(url,data).text\n",
    "\thtml = json.loads(html,encoding='utf-8')\n",
    "\treturn html\n",
    "if __name__=='__main__':\n",
    "\tprint(hownet_word_sim('获得荣誉', '主要荣誉'))"
   ]
  },
  {
   "cell_type": "code",
   "execution_count": 5,
   "metadata": {},
   "outputs": [
    {
     "name": "stdout",
     "output_type": "stream",
     "text": [
      "{'error': '您输入的文本过长，请输入30个字以内的单句文本'}\n"
     ]
    }
   ],
   "source": [
    "# 调用HowNet接口计算短文本相似度\n",
    "import requests\n",
    "import json\n",
    "def hownet_word_sim(word1,word2):\n",
    "\tdata = {'apiKey':'t61px2w7','text1':word1,'text2':word2}\n",
    "\turl = 'http://yuzhinlp.com/api/getShortSimilarityApi.do'\n",
    "\thtml = requests.post(url,data).text\n",
    "\thtml = json.loads(html,encoding='utf-8')\n",
    "\treturn html\n",
    "if __name__=='__main__':\n",
    "# \tprint(hownet_word_sim('哈尔滨工业大学计算机系77级本科生，获学士学位', '在哈尔滨工业大学获取学士学位'))\n",
    "    print(hownet_word_sim('“在信息产业部重点工程中做出突出贡献特等奖先进个人”称号', '获中组部、中宣部、中央政法委、公安部、民政部、人事部等联合授予“先进个人”称号'))"
   ]
  },
  {
   "cell_type": "code",
   "execution_count": 3,
   "metadata": {},
   "outputs": [
    {
     "name": "stdout",
     "output_type": "stream",
     "text": [
      "common_str:  La09B09=\n",
      "La09B09= La09B09= 的相似度为： 1\n",
      "哥廷根大学 Georg-August-Universit?t of G?ttingen 最终的相似度为 1\n",
      "common_str:  La09B04=\n",
      "La09B04= La09B04= 的相似度为： 1\n",
      "巴黎高等师范大学 école normale supérieure 最终的相似度为 1\n",
      "common_str:  La09C11=\n",
      "La09C11= La09C11= 的相似度为： 1\n",
      "慕尼黑工业大学 Technische University München 最终的相似度为 1\n",
      "common_str:  La10B05=\n",
      "La10B05= La10B05= 的相似度为： 1\n",
      "弗莱堡大学 Albert-Ludwigs-Universit?t Freiburg 最终的相似度为 1\n",
      "common_str:  La08B12=\n",
      "La08B12= La08B12= 的相似度为： 1\n",
      "中国石油大学（北京） CUP 最终的相似度为 1\n"
     ]
    },
    {
     "name": "stderr",
     "output_type": "stream",
     "text": [
      "e:\\anaconda3\\lib\\re.py:212: FutureWarning: split() requires a non-empty pattern match.\n",
      "  return _compile(pattern, flags).split(string, maxsplit)\n"
     ]
    }
   ],
   "source": [
    "from cilin import CilinSimilarity\n",
    "cs = CilinSimilarity()\n",
    "w1 = '哥廷根大学'\n",
    "w2 = 'Georg-August-Universit?t of G?ttingen'\n",
    "w3 = '巴黎高等师范大学'\n",
    "w4 = 'école normale supérieure'\n",
    "w5 = '慕尼黑工业大学'\n",
    "w6 = 'Technische University München'\n",
    "w7 = '弗莱堡大学'\n",
    "w8 = 'Albert-Ludwigs-Universit?t Freiburg'\n",
    "w9 = '中国石油大学（北京）'\n",
    "w10 = 'CUP'\n",
    "# code1 = cs.get_code(w1)\n",
    "# print(w1, '的编码有：', code1)\n",
    "# code2 = cs.get_code(w2)\n",
    "# print(w2, '的编码有：', code2)\n",
    "sim = cs.similarity(w1, w2)\n",
    "print(w1, w2, '最终的相似度为', sim)\n",
    "sim2 = cs.similarity(w3, w4)\n",
    "print(w3, w4, '最终的相似度为', sim2)\n",
    "sim3 = cs.similarity(w5, w6)\n",
    "print(w5, w6, '最终的相似度为', sim3)\n",
    "sim4 = cs.similarity(w7, w8)\n",
    "print(w7, w8, '最终的相似度为', sim4)\n",
    "sim5 = cs.similarity(w9, w10)\n",
    "print(w9, w10, '最终的相似度为', sim5)"
   ]
  },
  {
   "cell_type": "code",
   "execution_count": 7,
   "metadata": {},
   "outputs": [
    {
     "name": "stdout",
     "output_type": "stream",
     "text": [
      "    La08C04=\n",
      "    ['哈佛大学 ', 'Harvard University', ' ', 'University of Groningen', '']\n",
      "    哈佛大学\n",
      "    ['哈佛大学', 'Harvard University', 'University of Groningen']\n"
     ]
    },
    {
     "name": "stderr",
     "output_type": "stream",
     "text": [
      "e:\\anaconda3\\lib\\re.py:212: FutureWarning: split() requires a non-empty pattern match.\n",
      "  return _compile(pattern, flags).split(string, maxsplit)\n"
     ]
    }
   ],
   "source": [
    "import re\n",
    "line = \"La08C04= 哈佛大学 (Harvard University) (University of Groningen)\"\n",
    "if line.find('(') != -1:\n",
    "    zifu = line.split(' ', 1)\n",
    "    code = zifu[0]\n",
    "    print('   ',code)\n",
    "    # rest_res = re.split('\\(|\\)|',zifu[1])\n",
    "    res = re.split('\\(|\\)|',zifu[1])\n",
    "    words = []\n",
    "    print('   ',res)\n",
    "    print('   ',res[0].split()[0])\n",
    "    words.append(res[0].split()[0])\n",
    "    word = res[1:]\n",
    "    for i in word:\n",
    "        if i != ' ' and i != '':\n",
    "            words.append(i)\n",
    "    print('   ',words)"
   ]
  },
  {
   "cell_type": "code",
   "execution_count": 1,
   "metadata": {},
   "outputs": [
    {
     "name": "stdout",
     "output_type": "stream",
     "text": [
      "Bin xing Fang fangbinxing 最终的相似度为 1\n"
     ]
    },
    {
     "name": "stderr",
     "output_type": "stream",
     "text": [
      "e:\\anaconda3\\lib\\re.py:212: FutureWarning: split() requires a non-empty pattern match.\n",
      "  return _compile(pattern, flags).split(string, maxsplit)\n"
     ]
    }
   ],
   "source": [
    "from cilin import CilinSimilarity\n",
    "cs = CilinSimilarity()\n",
    "w1 = '中国网络通信集团公司'\n",
    "w2 = '中国网络通信集团'\n",
    "w3 = '中国通信标准化协会'\n",
    "w4 = 'CCSA'\n",
    "w5 = '中国计算机学会'\n",
    "w6 = 'CCF'\n",
    "w7 = '中华人民共和国公安部'\n",
    "w8 = '公安部'\n",
    "w9 = '网络安全'\n",
    "w10 = '信息安全'\n",
    "w11 = 'Bin xing Fang'\n",
    "w12 = 'fangbinxing'\n",
    "# code1 = cs.get_code(w1)\n",
    "# print(w1, '的编码有：', code1)\n",
    "# code2 = cs.get_code(w2)\n",
    "# print(w2, '的编码有：', code2)\n",
    "# sim = cs.similarity(w1, w2)\n",
    "# print(w1, w2, '最终的相似度为', sim)\n",
    "# sim2 = cs.similarity(w3, w4)\n",
    "# print(w3, w4, '最终的相似度为', sim2)\n",
    "# sim3 = cs.similarity(w5, w6)\n",
    "# print(w5, w6, '最终的相似度为', sim3)\n",
    "# sim4 = cs.similarity(w7, w8)\n",
    "# print(w7, w8, '最终的相似度为', sim4)\n",
    "# sim5 = cs.similarity(w9, w10)\n",
    "# print(w9, w10, '最终的相似度为', sim5)\n",
    "sim6 = cs.similarity(w11, w12)\n",
    "print(w11, w12,'最终的相似度为', sim6)"
   ]
  },
  {
   "cell_type": "code",
   "execution_count": null,
   "metadata": {},
   "outputs": [],
   "source": []
  }
 ],
 "metadata": {
  "kernelspec": {
   "display_name": "Python 3",
   "language": "python",
   "name": "python3"
  },
  "language_info": {
   "codemirror_mode": {
    "name": "ipython",
    "version": 3
   },
   "file_extension": ".py",
   "mimetype": "text/x-python",
   "name": "python",
   "nbconvert_exporter": "python",
   "pygments_lexer": "ipython3",
   "version": "3.6.4"
  }
 },
 "nbformat": 4,
 "nbformat_minor": 2
}
